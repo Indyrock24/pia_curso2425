{
  "nbformat": 4,
  "nbformat_minor": 0,
  "metadata": {
    "colab": {
      "provenance": []
    },
    "kernelspec": {
      "name": "python3",
      "display_name": "Python 3"
    },
    "language_info": {
      "name": "python"
    }
  },
  "cells": [
    {
      "cell_type": "markdown",
      "source": [
        "a. (0,5 puntos) Borra la celda actual, añade una nueva de texto y escribe en su interior tu nombre\n",
        "completo en Heading 1."
      ],
      "metadata": {
        "id": "0Jd7trJIdv6a"
      }
    },
    {
      "cell_type": "markdown",
      "source": [
        "#Cecilia Andrea Sánchez Rábida"
      ],
      "metadata": {
        "id": "qmIKuuXjVjas"
      }
    },
    {
      "cell_type": "markdown",
      "source": [
        "b. (0,75 puntos) En una nueva celda de código, crea la lista de nombre tenistas con los siguientes\n",
        "elementos: Novak Djokovic, Rafael Nadal, Roger Federer, Pete Sampras, Roy Emerson.\n",
        "Imprime por pantalla la lista."
      ],
      "metadata": {
        "id": "lULbjjjkd4RX"
      }
    },
    {
      "cell_type": "markdown",
      "source": [],
      "metadata": {
        "id": "R7i47uMedtrf"
      }
    },
    {
      "cell_type": "code",
      "execution_count": null,
      "metadata": {
        "colab": {
          "base_uri": "https://localhost:8080/"
        },
        "id": "5nZILxRaVace",
        "outputId": "fe6078b6-deec-4f37-ca4b-6fcb0c50bd4b"
      },
      "outputs": [
        {
          "output_type": "stream",
          "name": "stdout",
          "text": [
            "['Novak Djokovic', 'Rafael Nadal', 'Roger Federer', 'Pete Sampras', 'Roy Emerson']\n"
          ]
        }
      ],
      "source": [
        "tenistas= ['Novak Djokovic', 'Rafael Nadal', 'Roger Federer', 'Pete Sampras', 'Roy Emerson']\n",
        "print(tenistas)"
      ]
    },
    {
      "cell_type": "markdown",
      "source": [
        "c. (0,75 puntos) En una nueva celda de código, crea la lista de nombre grand_slams con los\n",
        "siguientes elementos: 24, 22, 20, 14, 12. Imprime por pantalla la lista."
      ],
      "metadata": {
        "id": "sfILs2Thd9ee"
      }
    },
    {
      "cell_type": "code",
      "source": [
        "grand_slams=[24,22,20,14,12]\n",
        "print(grand_slams)\n"
      ],
      "metadata": {
        "colab": {
          "base_uri": "https://localhost:8080/"
        },
        "id": "5q1T6ohOXJma",
        "outputId": "b37dc43a-d711-4cff-d42c-e2f409516f2b"
      },
      "execution_count": null,
      "outputs": [
        {
          "output_type": "stream",
          "name": "stdout",
          "text": [
            "[24, 22, 20, 14, 12]\n"
          ]
        }
      ]
    },
    {
      "cell_type": "markdown",
      "source": [
        "d. (1,0 puntos) En una nueva celda de código, crea un diccionario de nombre dic donde la clave de\n",
        "cada elemento sea el nombre de un tenista y su valor el número de Grand Slams ganados.\n",
        "Imprime por pantalla el diccionario."
      ],
      "metadata": {
        "id": "j7KfjYsUeD2N"
      }
    },
    {
      "cell_type": "code",
      "source": [
        "dic=dict(zip(tenistas,grand_slams))\n",
        "print(dic)\n",
        "\n"
      ],
      "metadata": {
        "colab": {
          "base_uri": "https://localhost:8080/"
        },
        "id": "MY0JSdrlXdRF",
        "outputId": "606b0a87-6ab6-4f4e-891f-c51b1b539cef"
      },
      "execution_count": null,
      "outputs": [
        {
          "output_type": "stream",
          "name": "stdout",
          "text": [
            "{'Novak Djokovic': 24, 'Rafael Nadal': 22, 'Roger Federer': 20, 'Pete Sampras': 14, 'Roy Emerson': 12}\n"
          ]
        }
      ]
    },
    {
      "cell_type": "markdown",
      "source": [
        "e. (1,5 puntos) En una nueva celda de código, escribe las sentencias Python necesarias para\n",
        "mostrar los datos del diccionario dic en la forma Nombre del jugador: X Grand Slams\n",
        "ganados. El resultado debería ser como sigue:\n",
        "Novak Djokovic: 24 Grand Slams ganados.\n",
        "Rafael Nadal: 22 Grand Slams ganados."
      ],
      "metadata": {
        "id": "fg2hJd8VeImm"
      }
    },
    {
      "cell_type": "code",
      "source": [
        "dic = {'Novak Djokovic': 24, 'Rafael Nadal': 22, 'Roger Federer': 20, 'Pete Sampras': 14, 'Roy Emerson': 12}\n",
        "for key, value in dic.items():\n",
        "    print(f\"{key}: {value} Grand Slams ganados.\")"
      ],
      "metadata": {
        "colab": {
          "base_uri": "https://localhost:8080/"
        },
        "id": "cWDAOq6YbelC",
        "outputId": "dd224a5e-93e6-453e-f3c6-90a0dd9608e1"
      },
      "execution_count": null,
      "outputs": [
        {
          "output_type": "stream",
          "name": "stdout",
          "text": [
            "Novak Djokovic: 24 Grand Slams ganados.\n",
            "Rafael Nadal: 22 Grand Slams ganados.\n",
            "Roger Federer: 20 Grand Slams ganados.\n",
            "Pete Sampras: 14 Grand Slams ganados.\n",
            "Roy Emerson: 12 Grand Slams ganados.\n"
          ]
        }
      ]
    },
    {
      "cell_type": "markdown",
      "source": [],
      "metadata": {
        "id": "ODprBrN4WHU9"
      }
    },
    {
      "cell_type": "markdown",
      "source": [],
      "metadata": {
        "id": "w0RgRdy3WhQq"
      }
    }
  ]
}